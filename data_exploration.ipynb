{
 "cells": [
  {
   "cell_type": "code",
   "execution_count": 1,
   "metadata": {
    "collapsed": true
   },
   "outputs": [],
   "source": [
    "import numpy as np\n",
    "import matplotlib.pyplot as plt\n",
    "import pandas as pd\n",
    "import seaborn as sns"
   ]
  },
  {
   "cell_type": "code",
   "execution_count": 2,
   "metadata": {
    "collapsed": false
   },
   "outputs": [
    {
     "name": "stdout",
     "output_type": "stream",
     "text": [
      "  country_destination  lat_destination  lng_destination  distance_km  \\\n",
      "0                  AU       -26.853388       133.275160   15297.7440   \n",
      "1                  CA        62.393303       -96.818146    2828.1333   \n",
      "2                  DE        51.165707        10.452764    7879.5680   \n",
      "3                  ES        39.896027        -2.487694    7730.7240   \n",
      "4                  FR        46.232193         2.209667    7682.9450   \n",
      "\n",
      "   destination_km2 destination_language  language_levenshtein_distance  \n",
      "0          7741220                  eng                           0.00  \n",
      "1          9984670                  eng                           0.00  \n",
      "2           357022                  deu                          72.61  \n",
      "3           505370                  spa                          92.25  \n",
      "4           643801                  fra                          92.06  \n"
     ]
    }
   ],
   "source": [
    "countries = pd.read_csv('./data/countries.csv')\n",
    "print(countries.head(5))"
   ]
  },
  {
   "cell_type": "code",
   "execution_count": null,
   "metadata": {
    "collapsed": true
   },
   "outputs": [],
   "source": []
  }
 ],
 "metadata": {
  "celltoolbar": "Edit Metadata",
  "kernelspec": {
   "display_name": "Python 3",
   "language": "python",
   "name": "python3"
  },
  "language_info": {
   "codemirror_mode": {
    "name": "ipython",
    "version": 3
   },
   "file_extension": ".py",
   "mimetype": "text/x-python",
   "name": "python",
   "nbconvert_exporter": "python",
   "pygments_lexer": "ipython3",
   "version": "3.5.1"
  }
 },
 "nbformat": 4,
 "nbformat_minor": 0
}
