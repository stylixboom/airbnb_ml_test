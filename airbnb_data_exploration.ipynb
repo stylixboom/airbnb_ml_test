{
 "cells": [
  {
   "cell_type": "markdown",
   "metadata": {},
   "source": [
    "# Airbnb data exploration"
   ]
  },
  {
   "cell_type": "markdown",
   "metadata": {},
   "source": [
    "Import necessary stuffs."
   ]
  },
  {
   "cell_type": "code",
   "execution_count": 10,
   "metadata": {
    "collapsed": false
   },
   "outputs": [],
   "source": [
    "import numpy as np\n",
    "import pandas as pd\n",
    "import matplotlib.pyplot as plt\n",
    "import seaborn as sns\n",
    "\n",
    "from colorama import Fore, Back, Style\n",
    "\n",
    "# Allow matplot to display via notebook\n",
    "%matplotlib inline\n",
    "\n",
    "# Set figure aesthetics\n",
    "sns.set_style(\"white\", {'ytick.major.size': 10.0})\n",
    "sns.set_context(\"poster\", font_scale=1.1)"
   ]
  },
  {
   "cell_type": "markdown",
   "metadata": {
    "collapsed": true
   },
   "source": [
    "## 1. Loading data\n",
    "Load data and check basic properties"
   ]
  },
  {
   "cell_type": "code",
   "execution_count": 13,
   "metadata": {
    "collapsed": false
   },
   "outputs": [
    {
     "name": "stdout",
     "output_type": "stream",
     "text": [
      "Loaded 213451 train users and 62096 users.\n",
      "====[ Train users have 16 columns ]====\n",
      " ['id', 'date_account_created', 'timestamp_first_active', 'date_first_booking', 'gender', 'age', 'signup_method', 'signup_flow', 'language', 'affiliate_channel', 'affiliate_provider', 'first_affiliate_tracked', 'signup_app', 'first_device_type', 'first_browser', 'country_destination'] \n",
      "\n",
      "====[ Test users have 15 columns ]====\n",
      " ['id', 'date_account_created', 'timestamp_first_active', 'date_first_booking', 'gender', 'age', 'signup_method', 'signup_flow', 'language', 'affiliate_channel', 'affiliate_provider', 'first_affiliate_tracked', 'signup_app', 'first_device_type', 'first_browser'] \n",
      "\n",
      "Different column is ### {'country_destination'} ###\n"
     ]
    }
   ],
   "source": [
    "# Load the data into DataFrames\n",
    "train_users = pd.read_csv('./data/train_users_2.csv')\n",
    "test_users = pd.read_csv('./data/test_users.csv')\n",
    "\n",
    "# Print total user from dataframe.shape[rows,cols]\n",
    "print(\"Loaded\", train_users.shape[0], \"train users and\", test_users.shape[0], \"users.\")\n",
    "\n",
    "print(\"====[ Train users have\", len(train_users.columns.values.tolist()), \"columns ]====\\n\",\\\n",
    "      train_users.columns.values.tolist(),\"\\n\")\n",
    "\n",
    "print(\"====[ Test users have\", len(test_users.columns.values.tolist()), \"columns ]====\\n\",\\\n",
    "      test_users.columns.values.tolist(),\"\\n\")\n",
    "\n",
    "print(\"Different column is ###\", set(train_users.columns.values.tolist()) - set(test_users.columns.values.tolist()), \"###\")"
   ]
  },
  {
   "cell_type": "markdown",
   "metadata": {},
   "source": [
    "## 2. Merging data\n",
    "Merge **train_users** and **test_users** into **users**\n",
    "\n",
    "**But the field 'country_destination' will be 'NaN' for the 'test_users' field.**"
   ]
  },
  {
   "cell_type": "code",
   "execution_count": 14,
   "metadata": {
    "collapsed": false
   },
   "outputs": [
    {
     "name": "stdout",
     "output_type": "stream",
     "text": [
      "Merged into 275547 users.\n"
     ]
    }
   ],
   "source": [
    "# Merge train and test users\n",
    "users = pd.concat((train_users, test_users), axis=0, ignore_index=True)\n",
    "\n",
    "# Print total user from dataframe.shape[rows,cols]\n",
    "print(\"Merged into\", users.shape[0], \"users.\")"
   ]
  },
  {
   "cell_type": "code",
   "execution_count": null,
   "metadata": {
    "collapsed": true
   },
   "outputs": [],
   "source": []
  }
 ],
 "metadata": {
  "kernelspec": {
   "display_name": "Python 3",
   "language": "python",
   "name": "python3"
  },
  "language_info": {
   "codemirror_mode": {
    "name": "ipython",
    "version": 3
   },
   "file_extension": ".py",
   "mimetype": "text/x-python",
   "name": "python",
   "nbconvert_exporter": "python",
   "pygments_lexer": "ipython3",
   "version": "3.5.1"
  }
 },
 "nbformat": 4,
 "nbformat_minor": 0
}
