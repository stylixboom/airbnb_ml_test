{
 "cells": [
  {
   "cell_type": "markdown",
   "metadata": {},
   "source": [
    "# Airbnb data exploration"
   ]
  },
  {
   "cell_type": "markdown",
   "metadata": {},
   "source": [
    "*With the guide from https://www.kaggle.com/davidgasquez/airbnb-recruiting-new-user-bookings/user-data-exploration/notebook*\n"
   ]
  },
  {
   "cell_type": "markdown",
   "metadata": {},
   "source": [
    "Import necessary stuffs."
   ]
  },
  {
   "cell_type": "code",
   "execution_count": 1,
   "metadata": {
    "collapsed": false
   },
   "outputs": [],
   "source": [
    "import numpy as np\n",
    "import pandas as pd\n",
    "import matplotlib.pyplot as plt\n",
    "import seaborn as sns\n",
    "\n",
    "# Allow matplot to display via notebook\n",
    "%matplotlib inline\n",
    "\n",
    "# Set figure aesthetics\n",
    "sns.set_style(\"white\", {'ytick.major.size': 10.0})\n",
    "sns.set_context(\"poster\", font_scale=1.1)"
   ]
  },
  {
   "cell_type": "markdown",
   "metadata": {
    "collapsed": true
   },
   "source": [
    "## 1. Loading data\n",
    "Load data **train_users** and **test_users**, and check its basic properties"
   ]
  },
  {
   "cell_type": "code",
   "execution_count": 2,
   "metadata": {
    "collapsed": false,
    "scrolled": true
   },
   "outputs": [
    {
     "name": "stdout",
     "output_type": "stream",
     "text": [
      "Loaded 213451 train users and 62096 users.\n",
      "====[ Train users have 16 columns ]====\n",
      " ['id', 'date_account_created', 'timestamp_first_active', 'date_first_booking', 'gender', 'age', 'signup_method', 'signup_flow', 'language', 'affiliate_channel', 'affiliate_provider', 'first_affiliate_tracked', 'signup_app', 'first_device_type', 'first_browser', 'country_destination'] \n",
      "\n",
      "====[ Test users have 15 columns ]====\n",
      " ['id', 'date_account_created', 'timestamp_first_active', 'date_first_booking', 'gender', 'age', 'signup_method', 'signup_flow', 'language', 'affiliate_channel', 'affiliate_provider', 'first_affiliate_tracked', 'signup_app', 'first_device_type', 'first_browser'] \n",
      "\n",
      "Different column is ### {'country_destination'} ###\n"
     ]
    }
   ],
   "source": [
    "# Load the data into DataFrames\n",
    "train_users = pd.read_csv('./data/train_users_2.csv')\n",
    "test_users = pd.read_csv('./data/test_users.csv')\n",
    "\n",
    "# Print total user from dataframe.shape[rows,cols]\n",
    "print(\"Loaded\", train_users.shape[0], \"train users and\", test_users.shape[0], \"users.\")\n",
    "\n",
    "print(\"====[ Train users have\", len(train_users.columns.values.tolist()), \"columns ]====\\n\",\\\n",
    "      train_users.columns.values.tolist(),\"\\n\")\n",
    "\n",
    "print(\"====[ Test users have\", len(test_users.columns.values.tolist()), \"columns ]====\\n\",\\\n",
    "      test_users.columns.values.tolist(),\"\\n\")\n",
    "\n",
    "print(\"Different column is ###\", set(train_users.columns.values.tolist()) - set(test_users.columns.values.tolist()), \"###\")"
   ]
  },
  {
   "cell_type": "markdown",
   "metadata": {},
   "source": [
    "## 2. Merging data\n",
    "Merge **train_users** and **test_users** into **users**\n",
    "\n",
    "**But the field 'country_destination' will be 'NaN' for the 'test_users' field.**"
   ]
  },
  {
   "cell_type": "code",
   "execution_count": 3,
   "metadata": {
    "collapsed": false
   },
   "outputs": [
    {
     "name": "stdout",
     "output_type": "stream",
     "text": [
      "Merged into 275547 users.\n"
     ]
    }
   ],
   "source": [
    "# Merge train and test users\n",
    "#users = train_users\n",
    "users = pd.concat((train_users, test_users), axis=0, ignore_index=True)\n",
    "\n",
    "# Print total user from dataframe.shape[rows,cols]\n",
    "print(\"Merged into\", users.shape[0], \"users.\")"
   ]
  },
  {
   "cell_type": "markdown",
   "metadata": {},
   "source": [
    "### Display users [0-4]"
   ]
  },
  {
   "cell_type": "code",
   "execution_count": 4,
   "metadata": {
    "collapsed": false,
    "scrolled": true
   },
   "outputs": [
    {
     "data": {
      "text/html": [
       "<div>\n",
       "<table border=\"1\" class=\"dataframe\">\n",
       "  <thead>\n",
       "    <tr style=\"text-align: right;\">\n",
       "      <th></th>\n",
       "      <th>affiliate_channel</th>\n",
       "      <th>affiliate_provider</th>\n",
       "      <th>age</th>\n",
       "      <th>country_destination</th>\n",
       "      <th>date_account_created</th>\n",
       "      <th>date_first_booking</th>\n",
       "      <th>first_affiliate_tracked</th>\n",
       "      <th>first_browser</th>\n",
       "      <th>first_device_type</th>\n",
       "      <th>gender</th>\n",
       "      <th>id</th>\n",
       "      <th>language</th>\n",
       "      <th>signup_app</th>\n",
       "      <th>signup_flow</th>\n",
       "      <th>signup_method</th>\n",
       "      <th>timestamp_first_active</th>\n",
       "    </tr>\n",
       "  </thead>\n",
       "  <tbody>\n",
       "    <tr>\n",
       "      <th>0</th>\n",
       "      <td>direct</td>\n",
       "      <td>direct</td>\n",
       "      <td>NaN</td>\n",
       "      <td>NDF</td>\n",
       "      <td>2010-06-28</td>\n",
       "      <td>NaN</td>\n",
       "      <td>untracked</td>\n",
       "      <td>Chrome</td>\n",
       "      <td>Mac Desktop</td>\n",
       "      <td>-unknown-</td>\n",
       "      <td>gxn3p5htnn</td>\n",
       "      <td>en</td>\n",
       "      <td>Web</td>\n",
       "      <td>0</td>\n",
       "      <td>facebook</td>\n",
       "      <td>20090319043255</td>\n",
       "    </tr>\n",
       "    <tr>\n",
       "      <th>1</th>\n",
       "      <td>seo</td>\n",
       "      <td>google</td>\n",
       "      <td>38</td>\n",
       "      <td>NDF</td>\n",
       "      <td>2011-05-25</td>\n",
       "      <td>NaN</td>\n",
       "      <td>untracked</td>\n",
       "      <td>Chrome</td>\n",
       "      <td>Mac Desktop</td>\n",
       "      <td>MALE</td>\n",
       "      <td>820tgsjxq7</td>\n",
       "      <td>en</td>\n",
       "      <td>Web</td>\n",
       "      <td>0</td>\n",
       "      <td>facebook</td>\n",
       "      <td>20090523174809</td>\n",
       "    </tr>\n",
       "    <tr>\n",
       "      <th>2</th>\n",
       "      <td>direct</td>\n",
       "      <td>direct</td>\n",
       "      <td>56</td>\n",
       "      <td>US</td>\n",
       "      <td>2010-09-28</td>\n",
       "      <td>2010-08-02</td>\n",
       "      <td>untracked</td>\n",
       "      <td>IE</td>\n",
       "      <td>Windows Desktop</td>\n",
       "      <td>FEMALE</td>\n",
       "      <td>4ft3gnwmtx</td>\n",
       "      <td>en</td>\n",
       "      <td>Web</td>\n",
       "      <td>3</td>\n",
       "      <td>basic</td>\n",
       "      <td>20090609231247</td>\n",
       "    </tr>\n",
       "    <tr>\n",
       "      <th>3</th>\n",
       "      <td>direct</td>\n",
       "      <td>direct</td>\n",
       "      <td>42</td>\n",
       "      <td>other</td>\n",
       "      <td>2011-12-05</td>\n",
       "      <td>2012-09-08</td>\n",
       "      <td>untracked</td>\n",
       "      <td>Firefox</td>\n",
       "      <td>Mac Desktop</td>\n",
       "      <td>FEMALE</td>\n",
       "      <td>bjjt8pjhuk</td>\n",
       "      <td>en</td>\n",
       "      <td>Web</td>\n",
       "      <td>0</td>\n",
       "      <td>facebook</td>\n",
       "      <td>20091031060129</td>\n",
       "    </tr>\n",
       "    <tr>\n",
       "      <th>4</th>\n",
       "      <td>direct</td>\n",
       "      <td>direct</td>\n",
       "      <td>41</td>\n",
       "      <td>US</td>\n",
       "      <td>2010-09-14</td>\n",
       "      <td>2010-02-18</td>\n",
       "      <td>untracked</td>\n",
       "      <td>Chrome</td>\n",
       "      <td>Mac Desktop</td>\n",
       "      <td>-unknown-</td>\n",
       "      <td>87mebub9p4</td>\n",
       "      <td>en</td>\n",
       "      <td>Web</td>\n",
       "      <td>0</td>\n",
       "      <td>basic</td>\n",
       "      <td>20091208061105</td>\n",
       "    </tr>\n",
       "  </tbody>\n",
       "</table>\n",
       "</div>"
      ],
      "text/plain": [
       "  affiliate_channel affiliate_provider  age country_destination  \\\n",
       "0            direct             direct  NaN                 NDF   \n",
       "1               seo             google   38                 NDF   \n",
       "2            direct             direct   56                  US   \n",
       "3            direct             direct   42               other   \n",
       "4            direct             direct   41                  US   \n",
       "\n",
       "  date_account_created date_first_booking first_affiliate_tracked  \\\n",
       "0           2010-06-28                NaN               untracked   \n",
       "1           2011-05-25                NaN               untracked   \n",
       "2           2010-09-28         2010-08-02               untracked   \n",
       "3           2011-12-05         2012-09-08               untracked   \n",
       "4           2010-09-14         2010-02-18               untracked   \n",
       "\n",
       "  first_browser first_device_type     gender          id language signup_app  \\\n",
       "0        Chrome       Mac Desktop  -unknown-  gxn3p5htnn       en        Web   \n",
       "1        Chrome       Mac Desktop       MALE  820tgsjxq7       en        Web   \n",
       "2            IE   Windows Desktop     FEMALE  4ft3gnwmtx       en        Web   \n",
       "3       Firefox       Mac Desktop     FEMALE  bjjt8pjhuk       en        Web   \n",
       "4        Chrome       Mac Desktop  -unknown-  87mebub9p4       en        Web   \n",
       "\n",
       "   signup_flow signup_method  timestamp_first_active  \n",
       "0            0      facebook          20090319043255  \n",
       "1            0      facebook          20090523174809  \n",
       "2            3         basic          20090609231247  \n",
       "3            0      facebook          20091031060129  \n",
       "4            0         basic          20091208061105  "
      ]
     },
     "execution_count": 4,
     "metadata": {},
     "output_type": "execute_result"
    }
   ],
   "source": [
    "users.head(5)"
   ]
  },
  {
   "cell_type": "markdown",
   "metadata": {
    "collapsed": true
   },
   "source": [
    "## 3. Data *pre-processing* and *exploring*\n",
    "### Replace a gender '-unknown-' with NaN"
   ]
  },
  {
   "cell_type": "code",
   "execution_count": 5,
   "metadata": {
    "collapsed": false
   },
   "outputs": [],
   "source": [
    "users['gender'].replace('-unknown-', np.nan,inplace=True)"
   ]
  },
  {
   "cell_type": "code",
   "execution_count": 6,
   "metadata": {
    "collapsed": false
   },
   "outputs": [
    {
     "data": {
      "text/html": [
       "<div>\n",
       "<table border=\"1\" class=\"dataframe\">\n",
       "  <thead>\n",
       "    <tr style=\"text-align: right;\">\n",
       "      <th></th>\n",
       "      <th>affiliate_channel</th>\n",
       "      <th>affiliate_provider</th>\n",
       "      <th>age</th>\n",
       "      <th>country_destination</th>\n",
       "      <th>date_account_created</th>\n",
       "      <th>date_first_booking</th>\n",
       "      <th>first_affiliate_tracked</th>\n",
       "      <th>first_browser</th>\n",
       "      <th>first_device_type</th>\n",
       "      <th>gender</th>\n",
       "      <th>id</th>\n",
       "      <th>language</th>\n",
       "      <th>signup_app</th>\n",
       "      <th>signup_flow</th>\n",
       "      <th>signup_method</th>\n",
       "      <th>timestamp_first_active</th>\n",
       "    </tr>\n",
       "  </thead>\n",
       "  <tbody>\n",
       "    <tr>\n",
       "      <th>0</th>\n",
       "      <td>direct</td>\n",
       "      <td>direct</td>\n",
       "      <td>NaN</td>\n",
       "      <td>NDF</td>\n",
       "      <td>2010-06-28</td>\n",
       "      <td>NaN</td>\n",
       "      <td>untracked</td>\n",
       "      <td>Chrome</td>\n",
       "      <td>Mac Desktop</td>\n",
       "      <td>NaN</td>\n",
       "      <td>gxn3p5htnn</td>\n",
       "      <td>en</td>\n",
       "      <td>Web</td>\n",
       "      <td>0</td>\n",
       "      <td>facebook</td>\n",
       "      <td>20090319043255</td>\n",
       "    </tr>\n",
       "    <tr>\n",
       "      <th>1</th>\n",
       "      <td>seo</td>\n",
       "      <td>google</td>\n",
       "      <td>38</td>\n",
       "      <td>NDF</td>\n",
       "      <td>2011-05-25</td>\n",
       "      <td>NaN</td>\n",
       "      <td>untracked</td>\n",
       "      <td>Chrome</td>\n",
       "      <td>Mac Desktop</td>\n",
       "      <td>MALE</td>\n",
       "      <td>820tgsjxq7</td>\n",
       "      <td>en</td>\n",
       "      <td>Web</td>\n",
       "      <td>0</td>\n",
       "      <td>facebook</td>\n",
       "      <td>20090523174809</td>\n",
       "    </tr>\n",
       "    <tr>\n",
       "      <th>2</th>\n",
       "      <td>direct</td>\n",
       "      <td>direct</td>\n",
       "      <td>56</td>\n",
       "      <td>US</td>\n",
       "      <td>2010-09-28</td>\n",
       "      <td>2010-08-02</td>\n",
       "      <td>untracked</td>\n",
       "      <td>IE</td>\n",
       "      <td>Windows Desktop</td>\n",
       "      <td>FEMALE</td>\n",
       "      <td>4ft3gnwmtx</td>\n",
       "      <td>en</td>\n",
       "      <td>Web</td>\n",
       "      <td>3</td>\n",
       "      <td>basic</td>\n",
       "      <td>20090609231247</td>\n",
       "    </tr>\n",
       "    <tr>\n",
       "      <th>3</th>\n",
       "      <td>direct</td>\n",
       "      <td>direct</td>\n",
       "      <td>42</td>\n",
       "      <td>other</td>\n",
       "      <td>2011-12-05</td>\n",
       "      <td>2012-09-08</td>\n",
       "      <td>untracked</td>\n",
       "      <td>Firefox</td>\n",
       "      <td>Mac Desktop</td>\n",
       "      <td>FEMALE</td>\n",
       "      <td>bjjt8pjhuk</td>\n",
       "      <td>en</td>\n",
       "      <td>Web</td>\n",
       "      <td>0</td>\n",
       "      <td>facebook</td>\n",
       "      <td>20091031060129</td>\n",
       "    </tr>\n",
       "    <tr>\n",
       "      <th>4</th>\n",
       "      <td>direct</td>\n",
       "      <td>direct</td>\n",
       "      <td>41</td>\n",
       "      <td>US</td>\n",
       "      <td>2010-09-14</td>\n",
       "      <td>2010-02-18</td>\n",
       "      <td>untracked</td>\n",
       "      <td>Chrome</td>\n",
       "      <td>Mac Desktop</td>\n",
       "      <td>NaN</td>\n",
       "      <td>87mebub9p4</td>\n",
       "      <td>en</td>\n",
       "      <td>Web</td>\n",
       "      <td>0</td>\n",
       "      <td>basic</td>\n",
       "      <td>20091208061105</td>\n",
       "    </tr>\n",
       "  </tbody>\n",
       "</table>\n",
       "</div>"
      ],
      "text/plain": [
       "  affiliate_channel affiliate_provider  age country_destination  \\\n",
       "0            direct             direct  NaN                 NDF   \n",
       "1               seo             google   38                 NDF   \n",
       "2            direct             direct   56                  US   \n",
       "3            direct             direct   42               other   \n",
       "4            direct             direct   41                  US   \n",
       "\n",
       "  date_account_created date_first_booking first_affiliate_tracked  \\\n",
       "0           2010-06-28                NaN               untracked   \n",
       "1           2011-05-25                NaN               untracked   \n",
       "2           2010-09-28         2010-08-02               untracked   \n",
       "3           2011-12-05         2012-09-08               untracked   \n",
       "4           2010-09-14         2010-02-18               untracked   \n",
       "\n",
       "  first_browser first_device_type  gender          id language signup_app  \\\n",
       "0        Chrome       Mac Desktop     NaN  gxn3p5htnn       en        Web   \n",
       "1        Chrome       Mac Desktop    MALE  820tgsjxq7       en        Web   \n",
       "2            IE   Windows Desktop  FEMALE  4ft3gnwmtx       en        Web   \n",
       "3       Firefox       Mac Desktop  FEMALE  bjjt8pjhuk       en        Web   \n",
       "4        Chrome       Mac Desktop     NaN  87mebub9p4       en        Web   \n",
       "\n",
       "   signup_flow signup_method  timestamp_first_active  \n",
       "0            0      facebook          20090319043255  \n",
       "1            0      facebook          20090523174809  \n",
       "2            3         basic          20090609231247  \n",
       "3            0      facebook          20091031060129  \n",
       "4            0         basic          20091208061105  "
      ]
     },
     "execution_count": 6,
     "metadata": {},
     "output_type": "execute_result"
    }
   ],
   "source": [
    "users.head(5)"
   ]
  },
  {
   "cell_type": "markdown",
   "metadata": {},
   "source": [
    "## Counting how many percent of the *missing* data.\n",
    "\n",
    "**Note**\n",
    "*country_destination* is known as all Nan from the test_users."
   ]
  },
  {
   "cell_type": "code",
   "execution_count": 7,
   "metadata": {
    "collapsed": false
   },
   "outputs": [
    {
     "data": {
      "text/plain": [
       "age                        42.412365\n",
       "date_first_booking         67.733998\n",
       "first_affiliate_tracked     2.208335\n",
       "gender                     46.990169\n",
       "dtype: float64"
      ]
     },
     "execution_count": 7,
     "metadata": {},
     "output_type": "execute_result"
    }
   ],
   "source": [
    "users_nan = (users.isnull().sum() / users.shape[0]) * 100\n",
    "\n",
    "# This is to calculate the percentage of null/NaN within the data\n",
    "# .count() tell how much non-null/NaN\n",
    "# .isnull().sum() tell how much null/NaN\n",
    "users_nan[users_nan > 0].drop('country_destination')"
   ]
  },
  {
   "cell_type": "markdown",
   "metadata": {},
   "source": [
    "## Treating data as they are"
   ]
  },
  {
   "cell_type": "markdown",
   "metadata": {},
   "source": [
    "Ref: http://pandas.pydata.org/pandas-docs/stable/categorical.html\n",
    "\n",
    "The lexical order of a variable is not the same as the logical order (“one”, “two”, “three”). By converting to a categorical and specifying an order on the categories, sorting and min/max will use the logical order instead of the lexical order.\n",
    "\n",
    "**timestamp_first_active** will be transformed into date-time as **date_first_active**"
   ]
  },
  {
   "cell_type": "code",
   "execution_count": 8,
   "metadata": {
    "collapsed": true
   },
   "outputs": [],
   "source": [
    "# Category type\n",
    "categorical_features = [\n",
    "    'affiliate_channel',\n",
    "    'affiliate_provider',\n",
    "    'country_destination',\n",
    "    'first_affiliate_tracked',\n",
    "    'first_browser',\n",
    "    'first_device_type',\n",
    "    'gender',\n",
    "    'language',\n",
    "    'signup_app',\n",
    "    'signup_method'\n",
    "]\n",
    "\n",
    "for categorical_feature in categorical_features:\n",
    "    users[categorical_feature] = users[categorical_feature].astype('category')\n",
    "\n",
    "# Date-time type\n",
    "users['date_account_created'] = pd.to_datetime(users['date_account_created'])\n",
    "users['date_first_booking'] = pd.to_datetime(users['date_first_booking'])\n",
    "users['date_first_active'] = pd.to_datetime((users['timestamp_first_active'] // 1000000), format='%Y%m%d')\n",
    "\n",
    "# Do it also for train and test user\n",
    "train_users['date_account_created'] = pd.to_datetime(train_users['date_account_created'])\n",
    "train_users['date_first_booking'] = pd.to_datetime(train_users['date_first_booking'])\n",
    "train_users['date_first_active'] = pd.to_datetime((train_users['timestamp_first_active'] // 1000000), format='%Y%m%d')\n",
    "test_users['date_account_created'] = pd.to_datetime(test_users['date_account_created'])\n",
    "test_users['date_first_booking'] = pd.to_datetime(test_users['date_first_booking'])\n",
    "test_users['date_first_active'] = pd.to_datetime((test_users['timestamp_first_active'] // 1000000), format='%Y%m%d')"
   ]
  },
  {
   "cell_type": "markdown",
   "metadata": {},
   "source": [
    "## ======================== [ age ] ========================"
   ]
  },
  {
   "cell_type": "markdown",
   "metadata": {},
   "source": [
    "*Using dataframe.describe() to see roughly what happen to the data*"
   ]
  },
  {
   "cell_type": "code",
   "execution_count": 9,
   "metadata": {
    "collapsed": false
   },
   "outputs": [
    {
     "data": {
      "text/plain": [
       "count    158681.000000\n",
       "mean         47.145310\n",
       "std         142.629468\n",
       "min           1.000000\n",
       "25%          28.000000\n",
       "50%          33.000000\n",
       "75%          42.000000\n",
       "max        2014.000000\n",
       "Name: age, dtype: float64"
      ]
     },
     "execution_count": 9,
     "metadata": {},
     "output_type": "execute_result"
    }
   ],
   "source": [
    "users['age'].describe()"
   ]
  },
  {
   "cell_type": "markdown",
   "metadata": {},
   "source": [
    "So, we see some error in the data.\n",
    "\n",
    "e.g. **age == 1** and **age == 2014**"
   ]
  },
  {
   "cell_type": "markdown",
   "metadata": {},
   "source": [
    "So, take a look more with age histogram.."
   ]
  },
  {
   "cell_type": "code",
   "execution_count": 10,
   "metadata": {
    "collapsed": false
   },
   "outputs": [
    {
     "data": {
      "image/png": "[encoded data removed]",
      "text/plain": [
       "<matplotlib.figure.Figure at 0x21a605e2780>"
      ]
     },
     "metadata": {},
     "output_type": "display_data"
    }
   ],
   "source": [
    "sns.distplot(users['age'].dropna(), kde=False, color=\"b\")\n",
    "plt.xlabel('Age')\n",
    "\n",
    "plt.show()"
   ]
  },
  {
   "cell_type": "markdown",
   "metadata": {},
   "source": [
    "### Replacing age noise with NaN\n",
    "As Airbnb allow 18+ and very old people like 100+ might be fault inputs."
   ]
  },
  {
   "cell_type": "code",
   "execution_count": 11,
   "metadata": {
    "collapsed": false
   },
   "outputs": [
    {
     "data": {
      "text/plain": [
       "count    188.000000\n",
       "mean      12.718085\n",
       "std        5.764569\n",
       "min        1.000000\n",
       "25%        5.000000\n",
       "50%       16.000000\n",
       "75%       17.000000\n",
       "max       17.000000\n",
       "Name: age, dtype: float64"
      ]
     },
     "execution_count": 11,
     "metadata": {},
     "output_type": "execute_result"
    }
   ],
   "source": [
    "users['age'][users['age'] < 18].describe()"
   ]
  },
  {
   "cell_type": "code",
   "execution_count": 12,
   "metadata": {
    "collapsed": false
   },
   "outputs": [
    {
     "data": {
      "text/plain": [
       "count    2690.000000\n",
       "mean      690.957249\n",
       "std       877.927570\n",
       "min       101.000000\n",
       "25%       105.000000\n",
       "50%       105.000000\n",
       "75%      2014.000000\n",
       "max      2014.000000\n",
       "Name: age, dtype: float64"
      ]
     },
     "execution_count": 12,
     "metadata": {},
     "output_type": "execute_result"
    }
   ],
   "source": [
    "users['age'][users['age'] > 100].describe()"
   ]
  },
  {
   "cell_type": "markdown",
   "metadata": {},
   "source": [
    "### Replace it with NaN and show histogram again"
   ]
  },
  {
   "cell_type": "code",
   "execution_count": 13,
   "metadata": {
    "collapsed": false
   },
   "outputs": [
    {
     "data": {
      "image/png": "[encoded data removed]",
      "text/plain": [
       "<matplotlib.figure.Figure at 0x21a61c0af98>"
      ]
     },
     "metadata": {},
     "output_type": "display_data"
    }
   ],
   "source": [
    "# Replace it with NaN\n",
    "users.loc[users['age'] > 95, 'age'] = np.nan\n",
    "users.loc[users['age'] < 13, 'age'] = np.nan\n",
    "\n",
    "# Plot\n",
    "sns.distplot(users['age'].dropna(), kde=False, color=\"b\")\n",
    "plt.xlabel('Age')\n",
    "\n",
    "plt.show()"
   ]
  },
  {
   "cell_type": "code",
   "execution_count": 14,
   "metadata": {
    "collapsed": false
   },
   "outputs": [
    {
     "name": "stdout",
     "output_type": "stream",
     "text": [
      "The users with age around 36 are quite popular in airbnb\n"
     ]
    }
   ],
   "source": [
    "print(\"The users with age around\", int(users['age'].mean()), \"are quite popular in airbnb\")"
   ]
  },
  {
   "cell_type": "markdown",
   "metadata": {},
   "source": [
    "## KNOWLEDGE\n",
    "Age ~36 is peak for Airbnb\n",
    "\n",
    "**-END**"
   ]
  },
  {
   "cell_type": "markdown",
   "metadata": {},
   "source": [
    "## ======================== gender ========================"
   ]
  },
  {
   "cell_type": "code",
   "execution_count": 15,
   "metadata": {
    "collapsed": false,
    "scrolled": true
   },
   "outputs": [
    {
     "name": "stdout",
     "output_type": "stream",
     "text": [
      "Total female user: 77524\n",
      "Total male user: 68209\n"
     ]
    }
   ],
   "source": [
    "print(\"Total female user:\", users['gender'][users['gender'] == 'FEMALE'].count())\n",
    "print(\"Total male user:\", users['gender'][users['gender'] == 'MALE'].count())"
   ]
  },
  {
   "cell_type": "code",
   "execution_count": 16,
   "metadata": {
    "collapsed": false
   },
   "outputs": [
    {
     "data": {
      "image/png": "[encoded data removed]",
      "text/plain": [
       "<matplotlib.figure.Figure at 0x21a605e23c8>"
      ]
     },
     "metadata": {},
     "output_type": "display_data"
    }
   ],
   "source": [
    "(users['gender'].value_counts(dropna=False)).plot(kind='bar', color='#AAAAAA', rot=0)\n",
    "plt.xlabel('Gender')\n",
    "\n",
    "plt.show()"
   ]
  },
  {
   "cell_type": "markdown",
   "metadata": {},
   "source": [
    "## KNOWLEDGE\n",
    "Female seemed to use Airbnb more than male\n",
    "\n",
    "**-END**"
   ]
  },
  {
   "cell_type": "code",
   "execution_count": 17,
   "metadata": {
    "collapsed": false
   },
   "outputs": [
    {
     "data": {
      "image/png": "[encoded data removed]",
      "text/plain": [
       "<matplotlib.figure.Figure at 0x21a61d68240>"
      ]
     },
     "metadata": {},
     "output_type": "display_data"
    }
   ],
   "source": [
    "sns.set(style=\"darkgrid\")\n",
    "g = sns.FacetGrid(users, dropna=False, col=\"gender\", margin_titles=True)\n",
    "bins = np.linspace(10, 95, 50)\n",
    "g.map(plt.hist, \"age\", color=\"steelblue\", bins=bins, lw=0)\n",
    "\n",
    "plt.show()"
   ]
  },
  {
   "cell_type": "markdown",
   "metadata": {},
   "source": [
    "## ======================== country ========================"
   ]
  },
  {
   "cell_type": "code",
   "execution_count": 18,
   "metadata": {
    "collapsed": false
   },
   "outputs": [
    {
     "data": {
      "image/png": "[encoded data removed]",
      "text/plain": [
       "<matplotlib.figure.Figure at 0x21a626ab7b8>"
      ]
     },
     "metadata": {},
     "output_type": "display_data"
    }
   ],
   "source": [
    "country_total = users['country_destination'].value_counts(dropna=False)\n",
    "\n",
    "sns.set_style(\"white\", {'ytick.major.size': 10.0})\n",
    "sns.set_context(\"poster\", font_scale=1.1)\n",
    "\n",
    "country_total.plot(kind='bar', color='#AACCFF', rot=0)\n",
    "plt.xlabel('country_destination')\n",
    "plt.ylabel('Number of users')\n",
    "\n",
    "sns.despine()\n",
    "plt.show()"
   ]
  },
  {
   "cell_type": "markdown",
   "metadata": {},
   "source": [
    "## KNOWLEDGE\n",
    "With Airbnb, a lot people go to US\n",
    "\n",
    "**-END**"
   ]
  },
  {
   "cell_type": "markdown",
   "metadata": {},
   "source": [
    "## Absolute gender percentage"
   ]
  },
  {
   "cell_type": "code",
   "execution_count": 19,
   "metadata": {
    "collapsed": false
   },
   "outputs": [
    {
     "data": {
      "image/png": "[encoded data removed]",
      "text/plain": [
       "<matplotlib.figure.Figure at 0x21a62b94e48>"
      ]
     },
     "metadata": {},
     "output_type": "display_data"
    },
    {
     "data": {
      "image/png": "[encoded data removed]",
      "text/plain": [
       "<matplotlib.figure.Figure at 0x21a62bfb828>"
      ]
     },
     "metadata": {},
     "output_type": "display_data"
    }
   ],
   "source": [
    "country_user_total = users.shape[0]\n",
    "country_female = train_users.loc[users['gender'] == 'FEMALE','country_destination'].value_counts(dropna=False)\n",
    "country_male = train_users.loc[users['gender'] == 'MALE','country_destination'].value_counts(dropna=False)\n",
    "country_other = train_users.loc[(users['gender'] == 'OTHER') | users['gender'].isnull(),'country_destination'].value_counts(dropna=False)\n",
    "#country_nan = users.loc[users['gender'].isnull(),'country_destination'].value_counts(dropna=False)\n",
    "\n",
    "# Bar width\n",
    "width = 0.3\n",
    "(country_female / country_user_total * 100).plot(kind='bar', width=width, color='#AE6A90', label='Female', position=0, rot=0)\n",
    "(country_male / country_user_total * 100).plot(kind='bar', width=width, color='#838BAA', label='Male', position=1, rot=0)\n",
    "plt.legend()\n",
    "plt.xlabel('country_destination')\n",
    "plt.ylabel('Percent of users (absolute)')\n",
    "\n",
    "sns.despine()\n",
    "plt.show()\n",
    "\n",
    "((country_male + country_female) / country_user_total * 100).plot(\\\n",
    "  kind='bar', width=width, color='#4D659B', label='Open gender status', position=0, rot=0)\n",
    "(country_other / country_user_total * 100).plot(\\\n",
    "  kind='bar', width=width, color='#A1B1D6', label='Hidden gender status', position=1, rot=0)\n",
    "\n",
    "plt.legend()\n",
    "plt.xlabel('country_destination')\n",
    "plt.ylabel('Percent of users (absolute)')\n",
    "\n",
    "sns.despine()\n",
    "plt.show()"
   ]
  },
  {
   "cell_type": "markdown",
   "metadata": {},
   "source": [
    "## KNOWLEDGE\n",
    "People who **opened** their gender status tend to **book** with Airbnb.\n",
    "\n",
    "People who **hide** their gender status tend **not to book** \"NDF - No destination found\"\n",
    "\n",
    "**-END**"
   ]
  },
  {
   "cell_type": "markdown",
   "metadata": {},
   "source": [
    "## Relative gender percentage"
   ]
  },
  {
   "cell_type": "code",
   "execution_count": 20,
   "metadata": {
    "collapsed": false
   },
   "outputs": [
    {
     "name": "stdout",
     "output_type": "stream",
     "text": [
      "-- Basic - Python --\n",
      "('abcd', 786, 2.23, 'john', 70.2)\n",
      "-- Array slice --\n",
      "abcd\n",
      "(786, 2.23, 'john')\n",
      "(2.23, 'john', 70.2)\n",
      "(123, 'john', 123, 'john')\n",
      "(123, 'john', 'abcd', 786, 2.23, 'john')\n",
      "[1, 3]\n",
      "[]\n",
      "-- Dict --\n",
      "6\n",
      "6\n",
      "1\n",
      "-- String --\n",
      "this is a city\n",
      "this\n",
      "4\n",
      "-- Convert --\n",
      "123\n",
      "'123'\n",
      "<class 'str'>\n",
      "123\n",
      "123\n",
      "<class 'int'>\n",
      "123.0\n",
      "123.0\n",
      "<class 'float'>\n",
      "['1', '2', '3']\n",
      "'2'\n",
      "-- Class --\n",
      "x:11 y:A z:AAAA\n",
      "string012345678910\n",
      "Find 'city' in the string 'this is a city'... found at index 10\n",
      "-- Loop --\n",
      "4 6 3 4 5 6 7 8 9 num reached: 9\n",
      "0\n",
      "1\n",
      "2\n",
      "3\n",
      "4\n",
      "5\n",
      "6\n",
      "7\n",
      "8\n",
      "9\n",
      "10\n",
      "11\n",
      "12\n",
      "13\n",
      "14\n",
      "15\n",
      "16\n",
      "17\n",
      "18\n",
      "19\n",
      "20\n",
      "21\n",
      "item reached: 22\n",
      "Number of ticks since 12:00am, January 1, 1970: 1457604252.6833344\n",
      "2016-03-10\n",
      "True\n",
      "-- Function --\n",
      "['this', 'is', 'my', 'word']\n",
      "-- Matrix --\n",
      "[[1 2]\n",
      " [3 4]\n",
      " [5 6]]\n",
      "[[2]\n",
      " [4]\n",
      " [6]]\n",
      "[[1 2]]\n",
      "[[1 2]\n",
      " [3 4]]\n",
      "[[2]\n",
      " [4]]\n"
     ]
    },
    {
     "ename": "NameError",
     "evalue": "name 'country_nan' is not defined",
     "output_type": "error",
     "traceback": [
      "\u001b[1;31m---------------------------------------------------------------------------\u001b[0m",
      "\u001b[1;31mNameError\u001b[0m                                 Traceback (most recent call last)",
      "\u001b[1;32m<ipython-input-20-e0b5fc177a1c>\u001b[0m in \u001b[0;36m<module>\u001b[1;34m()\u001b[0m\n\u001b[0;32m      5\u001b[0m \u001b[1;33m(\u001b[0m\u001b[0mcountry_male\u001b[0m \u001b[1;33m/\u001b[0m \u001b[0msum\u001b[0m\u001b[1;33m(\u001b[0m\u001b[0mcountry_male\u001b[0m\u001b[1;33m)\u001b[0m \u001b[1;33m*\u001b[0m \u001b[1;36m100\u001b[0m\u001b[1;33m)\u001b[0m\u001b[1;33m.\u001b[0m\u001b[0mplot\u001b[0m\u001b[1;33m(\u001b[0m\u001b[0mkind\u001b[0m\u001b[1;33m=\u001b[0m\u001b[1;34m'bar'\u001b[0m\u001b[1;33m,\u001b[0m \u001b[0mwidth\u001b[0m\u001b[1;33m=\u001b[0m\u001b[0mwidth\u001b[0m\u001b[1;33m,\u001b[0m \u001b[0mcolor\u001b[0m\u001b[1;33m=\u001b[0m\u001b[1;34m'#838BAA'\u001b[0m\u001b[1;33m,\u001b[0m \u001b[0mlabel\u001b[0m\u001b[1;33m=\u001b[0m\u001b[1;34m'Male'\u001b[0m\u001b[1;33m,\u001b[0m \u001b[0mposition\u001b[0m\u001b[1;33m=\u001b[0m\u001b[1;36m1\u001b[0m\u001b[1;33m,\u001b[0m \u001b[0mrot\u001b[0m\u001b[1;33m=\u001b[0m\u001b[1;36m0\u001b[0m\u001b[1;33m)\u001b[0m\u001b[1;33m\u001b[0m\u001b[0m\n\u001b[0;32m      6\u001b[0m \u001b[1;33m(\u001b[0m\u001b[0mcountry_other\u001b[0m \u001b[1;33m/\u001b[0m \u001b[0msum\u001b[0m\u001b[1;33m(\u001b[0m\u001b[0mcountry_other\u001b[0m\u001b[1;33m)\u001b[0m \u001b[1;33m*\u001b[0m \u001b[1;36m100\u001b[0m\u001b[1;33m)\u001b[0m\u001b[1;33m.\u001b[0m\u001b[0mplot\u001b[0m\u001b[1;33m(\u001b[0m\u001b[0mkind\u001b[0m\u001b[1;33m=\u001b[0m\u001b[1;34m'bar'\u001b[0m\u001b[1;33m,\u001b[0m \u001b[0mwidth\u001b[0m\u001b[1;33m=\u001b[0m\u001b[0mwidth\u001b[0m\u001b[1;33m,\u001b[0m \u001b[0mcolor\u001b[0m\u001b[1;33m=\u001b[0m\u001b[1;34m'#F3F358'\u001b[0m\u001b[1;33m,\u001b[0m \u001b[0mlabel\u001b[0m\u001b[1;33m=\u001b[0m\u001b[1;34m'Other'\u001b[0m\u001b[1;33m,\u001b[0m \u001b[0mposition\u001b[0m\u001b[1;33m=\u001b[0m\u001b[1;36m2\u001b[0m\u001b[1;33m,\u001b[0m \u001b[0mrot\u001b[0m\u001b[1;33m=\u001b[0m\u001b[1;36m0\u001b[0m\u001b[1;33m)\u001b[0m\u001b[1;33m\u001b[0m\u001b[0m\n\u001b[1;32m----> 7\u001b[1;33m \u001b[1;33m(\u001b[0m\u001b[0mcountry_nan\u001b[0m \u001b[1;33m/\u001b[0m \u001b[0msum\u001b[0m\u001b[1;33m(\u001b[0m\u001b[0mcountry_nan\u001b[0m\u001b[1;33m)\u001b[0m \u001b[1;33m*\u001b[0m \u001b[1;36m100\u001b[0m\u001b[1;33m)\u001b[0m\u001b[1;33m.\u001b[0m\u001b[0mplot\u001b[0m\u001b[1;33m(\u001b[0m\u001b[0mkind\u001b[0m\u001b[1;33m=\u001b[0m\u001b[1;34m'bar'\u001b[0m\u001b[1;33m,\u001b[0m \u001b[0mwidth\u001b[0m\u001b[1;33m=\u001b[0m\u001b[0mwidth\u001b[0m\u001b[1;33m,\u001b[0m \u001b[0mcolor\u001b[0m\u001b[1;33m=\u001b[0m\u001b[1;34m'#FF3030'\u001b[0m\u001b[1;33m,\u001b[0m \u001b[0mlabel\u001b[0m\u001b[1;33m=\u001b[0m\u001b[1;34m'NaN'\u001b[0m\u001b[1;33m,\u001b[0m \u001b[0mposition\u001b[0m\u001b[1;33m=\u001b[0m\u001b[1;36m3\u001b[0m\u001b[1;33m,\u001b[0m \u001b[0mrot\u001b[0m\u001b[1;33m=\u001b[0m\u001b[1;36m0\u001b[0m\u001b[1;33m)\u001b[0m\u001b[1;33m\u001b[0m\u001b[0m\n\u001b[0m\u001b[0;32m      8\u001b[0m \u001b[1;33m\u001b[0m\u001b[0m\n\u001b[0;32m      9\u001b[0m \u001b[0mplt\u001b[0m\u001b[1;33m.\u001b[0m\u001b[0mlegend\u001b[0m\u001b[1;33m(\u001b[0m\u001b[1;33m)\u001b[0m\u001b[1;33m\u001b[0m\u001b[0m\n",
      "\u001b[1;31mNameError\u001b[0m: name 'country_nan' is not defined"
     ]
    },
    {
     "data": {
      "image/png": "[encoded data removed]",
      "text/plain": [
       "<matplotlib.figure.Figure at 0x21a62bdf160>"
      ]
     },
     "metadata": {},
     "output_type": "display_data"
    }
   ],
   "source": [
    "# Bar width\n",
    "width = 0.225\n",
    "\n",
    "(country_female / sum(country_female) * 100).plot(kind='bar', width=width, color='#AE6A90', label='Female', position=0, rot=0)\n",
    "(country_male / sum(country_male) * 100).plot(kind='bar', width=width, color='#838BAA', label='Male', position=1, rot=0)\n",
    "(country_other / sum(country_other) * 100).plot(kind='bar', width=width, color='#F3F358', label='Other', position=2, rot=0)\n",
    "(country_nan / sum(country_nan) * 100).plot(kind='bar', width=width, color='#FF3030', label='NaN', position=3, rot=0)\n",
    "\n",
    "plt.legend()\n",
    "plt.xlabel('country_destination')\n",
    "plt.ylabel('Percent of users (relative)')\n",
    "\n",
    "sns.despine()\n",
    "plt.show()"
   ]
  },
  {
   "cell_type": "markdown",
   "metadata": {},
   "source": [
    "## Destination for younger and older"
   ]
  },
  {
   "cell_type": "code",
   "execution_count": null,
   "metadata": {
    "collapsed": false
   },
   "outputs": [],
   "source": [
    "# int(users['age'].mean()) is 36\n",
    "age = int(users['age'].mean())\n",
    "\n",
    "younger = sum(users.loc[users['age'] < age, 'country_destination'].value_counts())\n",
    "older = sum(users.loc[users['age'] > age, 'country_destination'].value_counts())\n",
    "\n",
    "younger_destinations = users.loc[users['age'] < age, 'country_destination'].value_counts() / younger * 100\n",
    "older_destinations = users.loc[users['age'] > age, 'country_destination'].value_counts() / older * 100\n",
    "\n",
    "younger_destinations.plot(kind='bar', width=width, color='#63EA55', position=0, label='Youngers', rot=0)\n",
    "older_destinations.plot(kind='bar', width=width, color='#4DD3C9', position=1, label='Olders', rot=0)\n",
    "\n",
    "plt.legend()\n",
    "plt.xlabel('country_destination')\n",
    "plt.ylabel('Percent of users (relative)')\n",
    "\n",
    "sns.despine()\n",
    "plt.show()"
   ]
  },
  {
   "cell_type": "markdown",
   "metadata": {},
   "source": [
    "## KNOWLEDGE\n",
    "With Airbnb,\n",
    "**Younger people** trend to go to US, **Older people** trend to go to the other country\n",
    "\n",
    "**-END**"
   ]
  },
  {
   "cell_type": "markdown",
   "metadata": {},
   "source": [
    "## ======================== [ language ] ========================"
   ]
  },
  {
   "cell_type": "code",
   "execution_count": null,
   "metadata": {
    "collapsed": false
   },
   "outputs": [],
   "source": [
    "sns.set_style(\"white\", {'ytick.major.size': 10.0})\n",
    "sns.set_context(\"poster\", font_scale=1.1)\n",
    "\n",
    "(users['language'].value_counts(dropna=False) / users.shape[0] * 100).plot(kind='bar', color='#AAAAAA', rot=0)\n",
    "\n",
    "plt.title('Language percentage')\n",
    "plt.xlabel('country_destination')\n",
    "plt.ylabel('Percent of users (relative)')\n",
    "plt.show()\n",
    "\n",
    "(users.loc[users['language'] != 'en', 'language'].value_counts(dropna=False) / users.shape[0] * 100).plot(kind='bar', color='#AAAAAA', rot=0)\n",
    "\n",
    "plt.title('Language percentage (without English)')\n",
    "plt.xlabel('country_destination')\n",
    "plt.ylabel('Percent of users (relative)')\n",
    "\n",
    "plt.show()"
   ]
  },
  {
   "cell_type": "code",
   "execution_count": null,
   "metadata": {
    "collapsed": false
   },
   "outputs": [],
   "source": [
    "(users['language'] == 'en').value_counts(dropna=False) / users.shape[0] * 100"
   ]
  },
  {
   "cell_type": "markdown",
   "metadata": {},
   "source": [
    "## KNOWLEDGE\n",
    "Most people use English (**96%** of Airbnb)\n",
    "\n",
    "But in some cases, Asian people prefer to use English with the internation site!!\n",
    "\n",
    "**-END**"
   ]
  },
  {
   "cell_type": "markdown",
   "metadata": {},
   "source": [
    "## ======================== [ date_account_created ] ========================"
   ]
  },
  {
   "cell_type": "code",
   "execution_count": null,
   "metadata": {
    "collapsed": false
   },
   "outputs": [],
   "source": [
    "sns.set_style(\"whitegrid\", {'axes.edgecolor': '0'})\n",
    "sns.set_context(\"poster\", font_scale=1.1)\n",
    "\n",
    "users['date_account_created'].value_counts().plot(kind='line', linewidth=1, color='#FC010E')\n",
    "plt.ylabel('Number of users')\n",
    "plt.show()"
   ]
  },
  {
   "cell_type": "markdown",
   "metadata": {},
   "source": [
    "## ======================== [ date_first_active ] ========================"
   ]
  },
  {
   "cell_type": "code",
   "execution_count": null,
   "metadata": {
    "collapsed": false
   },
   "outputs": [],
   "source": [
    "users['date_first_active'].value_counts().plot(kind='line', linewidth=1, color='#01E201')\n",
    "plt.ylabel('Number of users')\n",
    "plt.show()"
   ]
  },
  {
   "cell_type": "code",
   "execution_count": null,
   "metadata": {
    "collapsed": false
   },
   "outputs": [],
   "source": [
    "(users['date_account_created'].value_counts() - users['date_first_active'].value_counts()).plot(kind='line', linewidth=1, color='#000337')\n",
    "plt.ylabel('Number of users not active after registered')\n",
    "plt.show()"
   ]
  },
  {
   "cell_type": "markdown",
   "metadata": {},
   "source": [
    "## KNOWLEDGE\n",
    "Airbnb grow a lot every years\n",
    "**date_account_created** and **date_first_active** OR **timestamp_first_active** are not much different\n",
    "\n",
    "**-END**"
   ]
  },
  {
   "cell_type": "markdown",
   "metadata": {},
   "source": [
    "## ============== [ date_first booking vs. date_first_active ] =============="
   ]
  },
  {
   "cell_type": "code",
   "execution_count": null,
   "metadata": {
    "collapsed": false
   },
   "outputs": [],
   "source": [
    "users['date_first_active'].value_counts().plot(kind='line', linewidth=1, color='#01E201')\n",
    "users['date_first_booking'].value_counts().plot(kind='line', linewidth=1, color='#0029BF')\n",
    "\n",
    "plt.legend()\n",
    "plt.ylabel('Number of users')\n",
    "plt.show()"
   ]
  },
  {
   "cell_type": "markdown",
   "metadata": {},
   "source": [
    "**So, some different peak happends in between 2014 and 2015**\n",
    "\n",
    "Let's see the result from **train_users** and **test_users** differently."
   ]
  },
  {
   "cell_type": "code",
   "execution_count": null,
   "metadata": {
    "collapsed": false
   },
   "outputs": [],
   "source": [
    "train_users['date_first_active'].value_counts().plot(kind='line', linewidth=1, color='#01E201', label='date_first_active_train')\n",
    "train_users['date_first_booking'].value_counts().plot(kind='line', linewidth=1, color='#0029BF', label='date_first_booking_train')\n",
    "test_users['date_first_active'].value_counts().plot(kind='line', linewidth=1, color='#BB0101', label='date_first_active_test')\n",
    "\n",
    "plt.legend()\n",
    "plt.ylabel('Number of users')\n",
    "plt.show()"
   ]
  },
  {
   "cell_type": "markdown",
   "metadata": {},
   "source": [
    "*The **test data** is in the red portion*"
   ]
  },
  {
   "cell_type": "markdown",
   "metadata": {},
   "source": [
    "### Take a look closer each year\n",
    "Plot 2010-2012 together, and 2013-2014 on another chart."
   ]
  },
  {
   "cell_type": "code",
   "execution_count": null,
   "metadata": {
    "collapsed": false
   },
   "outputs": [],
   "source": [
    "from pandas.tseries.offsets import *\n",
    "\n",
    "# Year 2010\n",
    "users_2010 = users.loc[\n",
    "    (users['date_first_active'] >= pd.to_datetime(20100101, format='%Y%m%d')) &\n",
    "    (users['date_first_active'] < pd.to_datetime(20110101, format='%Y%m%d')), 'date_first_active']\n",
    "users_2010.value_counts().plot(kind='line', linewidth=2, color='#FF0700', label='2010')\n",
    "\n",
    "# Year 2011\n",
    "users_2011 = users.loc[\n",
    "    (users['date_first_active'] >= pd.to_datetime(20110101, format='%Y%m%d')) &\n",
    "    (users['date_first_active'] < pd.to_datetime(20120101, format='%Y%m%d')), 'date_first_active']\n",
    "(users_2011 - DateOffset(years=1)).value_counts().plot(kind='line', linewidth=2, color='#FFD600', label='2011')\n",
    "\n",
    "# Year 2012\n",
    "users_2012 = users.loc[\n",
    "    (users['date_first_active'] >= pd.to_datetime(20120101, format='%Y%m%d')) &\n",
    "    (users['date_first_active'] < pd.to_datetime(20130101, format='%Y%m%d')), 'date_first_active']\n",
    "(users_2012 - DateOffset(years=2)).value_counts().plot(kind='line', linewidth=2, color='#4FF200', label='2012')\n",
    "\n",
    "plt.title('Active users for 2010-2012')\n",
    "plt.legend()\n",
    "plt.show()\n",
    "\n",
    "# Year 2013\n",
    "users_2013 = users.loc[\n",
    "    (users['date_first_active'] >= pd.to_datetime(20130101, format='%Y%m%d')) &\n",
    "    (users['date_first_active'] < pd.to_datetime(20140101, format='%Y%m%d')), 'date_first_active']\n",
    "(users_2013 - DateOffset(years=3)).value_counts().plot(kind='line', linewidth=2, color='#07A0DB', label='2013')\n",
    "\n",
    "# Year 2014\n",
    "users_2014 = users.loc[\n",
    "    (users['date_first_active'] >= pd.to_datetime(20140101, format='%Y%m%d')) &\n",
    "    (users['date_first_active'] < pd.to_datetime(20150101, format='%Y%m%d')), 'date_first_active']\n",
    "(users_2014 - DateOffset(years=4)).value_counts().plot(kind='line', linewidth=2, color='#5012E0', label='2014')\n",
    "\n",
    "plt.title('Active users for 2013-2014')\n",
    "plt.legend()\n",
    "plt.show()"
   ]
  },
  {
   "cell_type": "markdown",
   "metadata": {},
   "source": [
    "## KNOWLEDGE\n",
    "We might guess, Airbnb push their marketing during the middle of every years.\n",
    "\n",
    "**-END**"
   ]
  },
  {
   "cell_type": "markdown",
   "metadata": {},
   "source": [
    "And there are also small peaks with the same distance.\n",
    "\n",
    "Let's see it by week."
   ]
  },
  {
   "cell_type": "code",
   "execution_count": null,
   "metadata": {
    "collapsed": false
   },
   "outputs": [],
   "source": [
    "active_weekdays = users['date_first_active'].apply(lambda x: x.weekday())\n",
    "book_weekdays = users['date_first_booking'].apply(lambda x: x.weekday())\n",
    "\n",
    "width=0.2\n",
    "active_weekdays.value_counts().sort_index().plot(kind='bar', width=width, color='#00A2B1', label='date_first_active', position=0, rot=0)\n",
    "book_weekdays.value_counts().sort_index().plot(kind='bar', width=width, color='#007984', label='date_first_booking', position=1, rot=0)\n",
    "\n",
    "plt.legend()\n",
    "plt.xlabel('Week Day')\n",
    "\n",
    "sns.despine()\n",
    "plt.show()"
   ]
  },
  {
   "cell_type": "markdown",
   "metadata": {
    "collapsed": false
   },
   "source": [
    "0 = Monday\n",
    "1 = Tuesday\n",
    "2 = Wednesday\n",
    "3 = Thursday\n",
    "4 = Friday\n",
    "5 = Saturday\n",
    "6 = Sunday\n",
    "\n",
    "## KNOWLEDGE\n",
    "People highly use Airbnb on weekdays rather than weekend\n",
    "\n",
    "And highest on **Tuesday**\n",
    "\n",
    "**-END**"
   ]
  }
 ],
 "metadata": {
  "kernelspec": {
   "display_name": "Python 3",
   "language": "python",
   "name": "python3"
  },
  "language_info": {
   "codemirror_mode": {
    "name": "ipython",
    "version": 3
   },
   "file_extension": ".py",
   "mimetype": "text/x-python",
   "name": "python",
   "nbconvert_exporter": "python",
   "pygments_lexer": "ipython3",
   "version": "3.5.1"
  }
 },
 "nbformat": 4,
 "nbformat_minor": 0
}
