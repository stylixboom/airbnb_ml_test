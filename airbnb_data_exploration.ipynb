{
 "cells": [
  {
   "cell_type": "markdown",
   "metadata": {},
   "source": [
    "# Airbnb data exploration"
   ]
  },
  {
   "cell_type": "markdown",
   "metadata": {},
   "source": [
    "*With the guide from https://www.kaggle.com/davidgasquez/airbnb-recruiting-new-user-bookings/user-data-exploration/notebook*\n"
   ]
  },
  {
   "cell_type": "markdown",
   "metadata": {},
   "source": [
    "Import necessary stuffs."
   ]
  },
  {
   "cell_type": "code",
   "execution_count": 1,
   "metadata": {
    "collapsed": false
   },
   "outputs": [],
   "source": [
    "import numpy as np\n",
    "import pandas as pd\n",
    "import matplotlib.pyplot as plt\n",
    "import seaborn as sns\n",
    "\n",
    "# Allow matplot to display via notebook\n",
    "%matplotlib inline\n",
    "\n",
    "# Set figure aesthetics\n",
    "sns.set_style(\"white\", {'ytick.major.size': 10.0})\n",
    "sns.set_context(\"poster\", font_scale=1.1)"
   ]
  },
  {
   "cell_type": "markdown",
   "metadata": {
    "collapsed": true
   },
   "source": [
    "## 1. Loading data\n",
    "Load data and check basic properties"
   ]
  },
  {
   "cell_type": "code",
   "execution_count": 2,
   "metadata": {
    "collapsed": false
   },
   "outputs": [
    {
     "name": "stdout",
     "output_type": "stream",
     "text": [
      "Loaded 213451 train users and 62096 users.\n",
      "====[ Train users have 16 columns ]====\n",
      " ['id', 'date_account_created', 'timestamp_first_active', 'date_first_booking', 'gender', 'age', 'signup_method', 'signup_flow', 'language', 'affiliate_channel', 'affiliate_provider', 'first_affiliate_tracked', 'signup_app', 'first_device_type', 'first_browser', 'country_destination'] \n",
      "\n",
      "====[ Test users have 15 columns ]====\n",
      " ['id', 'date_account_created', 'timestamp_first_active', 'date_first_booking', 'gender', 'age', 'signup_method', 'signup_flow', 'language', 'affiliate_channel', 'affiliate_provider', 'first_affiliate_tracked', 'signup_app', 'first_device_type', 'first_browser'] \n",
      "\n",
      "Different column is ### {'country_destination'} ###\n"
     ]
    }
   ],
   "source": [
    "# Load the data into DataFrames\n",
    "train_users = pd.read_csv('./data/train_users_2.csv')\n",
    "test_users = pd.read_csv('./data/test_users.csv')\n",
    "\n",
    "# Print total user from dataframe.shape[rows,cols]\n",
    "print(\"Loaded\", train_users.shape[0], \"train users and\", test_users.shape[0], \"users.\")\n",
    "\n",
    "print(\"====[ Train users have\", len(train_users.columns.values.tolist()), \"columns ]====\\n\",\\\n",
    "      train_users.columns.values.tolist(),\"\\n\")\n",
    "\n",
    "print(\"====[ Test users have\", len(test_users.columns.values.tolist()), \"columns ]====\\n\",\\\n",
    "      test_users.columns.values.tolist(),\"\\n\")\n",
    "\n",
    "print(\"Different column is ###\", set(train_users.columns.values.tolist()) - set(test_users.columns.values.tolist()), \"###\")"
   ]
  },
  {
   "cell_type": "markdown",
   "metadata": {},
   "source": [
    "## 2. Merging data\n",
    "Merge **train_users** and **test_users** into **users**\n",
    "\n",
    "**But the field 'country_destination' will be 'NaN' for the 'test_users' field.**"
   ]
  },
  {
   "cell_type": "code",
   "execution_count": 11,
   "metadata": {
    "collapsed": false
   },
   "outputs": [
    {
     "name": "stdout",
     "output_type": "stream",
     "text": [
      "Merged into 275547 users.\n"
     ]
    }
   ],
   "source": [
    "# Merge train and test users\n",
    "users = pd.concat((train_users, test_users), axis=0, ignore_index=True)\n",
    "\n",
    "# Print total user from dataframe.shape[rows,cols]\n",
    "print(\"Merged into\", users.shape[0], \"users.\")"
   ]
  },
  {
   "cell_type": "markdown",
   "metadata": {},
   "source": [
    "### Display users [0-4]"
   ]
  },
  {
   "cell_type": "code",
   "execution_count": 12,
   "metadata": {
    "collapsed": false
   },
   "outputs": [
    {
     "data": {
      "text/html": [
       "<div>\n",
       "<table border=\"1\" class=\"dataframe\">\n",
       "  <thead>\n",
       "    <tr style=\"text-align: right;\">\n",
       "      <th></th>\n",
       "      <th>affiliate_channel</th>\n",
       "      <th>affiliate_provider</th>\n",
       "      <th>age</th>\n",
       "      <th>country_destination</th>\n",
       "      <th>date_account_created</th>\n",
       "      <th>date_first_booking</th>\n",
       "      <th>first_affiliate_tracked</th>\n",
       "      <th>first_browser</th>\n",
       "      <th>first_device_type</th>\n",
       "      <th>gender</th>\n",
       "      <th>id</th>\n",
       "      <th>language</th>\n",
       "      <th>signup_app</th>\n",
       "      <th>signup_flow</th>\n",
       "      <th>signup_method</th>\n",
       "      <th>timestamp_first_active</th>\n",
       "    </tr>\n",
       "  </thead>\n",
       "  <tbody>\n",
       "    <tr>\n",
       "      <th>0</th>\n",
       "      <td>direct</td>\n",
       "      <td>direct</td>\n",
       "      <td>NaN</td>\n",
       "      <td>NDF</td>\n",
       "      <td>2010-06-28</td>\n",
       "      <td>NaN</td>\n",
       "      <td>untracked</td>\n",
       "      <td>Chrome</td>\n",
       "      <td>Mac Desktop</td>\n",
       "      <td>-unknown-</td>\n",
       "      <td>gxn3p5htnn</td>\n",
       "      <td>en</td>\n",
       "      <td>Web</td>\n",
       "      <td>0</td>\n",
       "      <td>facebook</td>\n",
       "      <td>20090319043255</td>\n",
       "    </tr>\n",
       "    <tr>\n",
       "      <th>1</th>\n",
       "      <td>seo</td>\n",
       "      <td>google</td>\n",
       "      <td>38</td>\n",
       "      <td>NDF</td>\n",
       "      <td>2011-05-25</td>\n",
       "      <td>NaN</td>\n",
       "      <td>untracked</td>\n",
       "      <td>Chrome</td>\n",
       "      <td>Mac Desktop</td>\n",
       "      <td>MALE</td>\n",
       "      <td>820tgsjxq7</td>\n",
       "      <td>en</td>\n",
       "      <td>Web</td>\n",
       "      <td>0</td>\n",
       "      <td>facebook</td>\n",
       "      <td>20090523174809</td>\n",
       "    </tr>\n",
       "    <tr>\n",
       "      <th>2</th>\n",
       "      <td>direct</td>\n",
       "      <td>direct</td>\n",
       "      <td>56</td>\n",
       "      <td>US</td>\n",
       "      <td>2010-09-28</td>\n",
       "      <td>2010-08-02</td>\n",
       "      <td>untracked</td>\n",
       "      <td>IE</td>\n",
       "      <td>Windows Desktop</td>\n",
       "      <td>FEMALE</td>\n",
       "      <td>4ft3gnwmtx</td>\n",
       "      <td>en</td>\n",
       "      <td>Web</td>\n",
       "      <td>3</td>\n",
       "      <td>basic</td>\n",
       "      <td>20090609231247</td>\n",
       "    </tr>\n",
       "    <tr>\n",
       "      <th>3</th>\n",
       "      <td>direct</td>\n",
       "      <td>direct</td>\n",
       "      <td>42</td>\n",
       "      <td>other</td>\n",
       "      <td>2011-12-05</td>\n",
       "      <td>2012-09-08</td>\n",
       "      <td>untracked</td>\n",
       "      <td>Firefox</td>\n",
       "      <td>Mac Desktop</td>\n",
       "      <td>FEMALE</td>\n",
       "      <td>bjjt8pjhuk</td>\n",
       "      <td>en</td>\n",
       "      <td>Web</td>\n",
       "      <td>0</td>\n",
       "      <td>facebook</td>\n",
       "      <td>20091031060129</td>\n",
       "    </tr>\n",
       "    <tr>\n",
       "      <th>4</th>\n",
       "      <td>direct</td>\n",
       "      <td>direct</td>\n",
       "      <td>41</td>\n",
       "      <td>US</td>\n",
       "      <td>2010-09-14</td>\n",
       "      <td>2010-02-18</td>\n",
       "      <td>untracked</td>\n",
       "      <td>Chrome</td>\n",
       "      <td>Mac Desktop</td>\n",
       "      <td>-unknown-</td>\n",
       "      <td>87mebub9p4</td>\n",
       "      <td>en</td>\n",
       "      <td>Web</td>\n",
       "      <td>0</td>\n",
       "      <td>basic</td>\n",
       "      <td>20091208061105</td>\n",
       "    </tr>\n",
       "  </tbody>\n",
       "</table>\n",
       "</div>"
      ],
      "text/plain": [
       "  affiliate_channel affiliate_provider  age country_destination  \\\n",
       "0            direct             direct  NaN                 NDF   \n",
       "1               seo             google   38                 NDF   \n",
       "2            direct             direct   56                  US   \n",
       "3            direct             direct   42               other   \n",
       "4            direct             direct   41                  US   \n",
       "\n",
       "  date_account_created date_first_booking first_affiliate_tracked  \\\n",
       "0           2010-06-28                NaN               untracked   \n",
       "1           2011-05-25                NaN               untracked   \n",
       "2           2010-09-28         2010-08-02               untracked   \n",
       "3           2011-12-05         2012-09-08               untracked   \n",
       "4           2010-09-14         2010-02-18               untracked   \n",
       "\n",
       "  first_browser first_device_type     gender          id language signup_app  \\\n",
       "0        Chrome       Mac Desktop  -unknown-  gxn3p5htnn       en        Web   \n",
       "1        Chrome       Mac Desktop       MALE  820tgsjxq7       en        Web   \n",
       "2            IE   Windows Desktop     FEMALE  4ft3gnwmtx       en        Web   \n",
       "3       Firefox       Mac Desktop     FEMALE  bjjt8pjhuk       en        Web   \n",
       "4        Chrome       Mac Desktop  -unknown-  87mebub9p4       en        Web   \n",
       "\n",
       "   signup_flow signup_method  timestamp_first_active  \n",
       "0            0      facebook          20090319043255  \n",
       "1            0      facebook          20090523174809  \n",
       "2            3         basic          20090609231247  \n",
       "3            0      facebook          20091031060129  \n",
       "4            0         basic          20091208061105  "
      ]
     },
     "execution_count": 12,
     "metadata": {},
     "output_type": "execute_result"
    }
   ],
   "source": [
    "users.head(5)"
   ]
  },
  {
   "cell_type": "markdown",
   "metadata": {
    "collapsed": true
   },
   "source": [
    "### Replace a gender '-unknown-' with NaN"
   ]
  },
  {
   "cell_type": "code",
   "execution_count": 32,
   "metadata": {
    "collapsed": false
   },
   "outputs": [],
   "source": [
    "users.gender.replace('-unknown-', np.nan,inplace=True)"
   ]
  },
  {
   "cell_type": "code",
   "execution_count": 33,
   "metadata": {
    "collapsed": false
   },
   "outputs": [
    {
     "data": {
      "text/html": [
       "<div>\n",
       "<table border=\"1\" class=\"dataframe\">\n",
       "  <thead>\n",
       "    <tr style=\"text-align: right;\">\n",
       "      <th></th>\n",
       "      <th>affiliate_channel</th>\n",
       "      <th>affiliate_provider</th>\n",
       "      <th>age</th>\n",
       "      <th>country_destination</th>\n",
       "      <th>date_account_created</th>\n",
       "      <th>date_first_booking</th>\n",
       "      <th>first_affiliate_tracked</th>\n",
       "      <th>first_browser</th>\n",
       "      <th>first_device_type</th>\n",
       "      <th>gender</th>\n",
       "      <th>id</th>\n",
       "      <th>language</th>\n",
       "      <th>signup_app</th>\n",
       "      <th>signup_flow</th>\n",
       "      <th>signup_method</th>\n",
       "      <th>timestamp_first_active</th>\n",
       "    </tr>\n",
       "  </thead>\n",
       "  <tbody>\n",
       "    <tr>\n",
       "      <th>0</th>\n",
       "      <td>direct</td>\n",
       "      <td>direct</td>\n",
       "      <td>NaN</td>\n",
       "      <td>NDF</td>\n",
       "      <td>2010-06-28</td>\n",
       "      <td>NaN</td>\n",
       "      <td>untracked</td>\n",
       "      <td>Chrome</td>\n",
       "      <td>Mac Desktop</td>\n",
       "      <td>NaN</td>\n",
       "      <td>gxn3p5htnn</td>\n",
       "      <td>en</td>\n",
       "      <td>Web</td>\n",
       "      <td>0</td>\n",
       "      <td>facebook</td>\n",
       "      <td>20090319043255</td>\n",
       "    </tr>\n",
       "    <tr>\n",
       "      <th>1</th>\n",
       "      <td>seo</td>\n",
       "      <td>google</td>\n",
       "      <td>38</td>\n",
       "      <td>NDF</td>\n",
       "      <td>2011-05-25</td>\n",
       "      <td>NaN</td>\n",
       "      <td>untracked</td>\n",
       "      <td>Chrome</td>\n",
       "      <td>Mac Desktop</td>\n",
       "      <td>MALE</td>\n",
       "      <td>820tgsjxq7</td>\n",
       "      <td>en</td>\n",
       "      <td>Web</td>\n",
       "      <td>0</td>\n",
       "      <td>facebook</td>\n",
       "      <td>20090523174809</td>\n",
       "    </tr>\n",
       "    <tr>\n",
       "      <th>2</th>\n",
       "      <td>direct</td>\n",
       "      <td>direct</td>\n",
       "      <td>56</td>\n",
       "      <td>US</td>\n",
       "      <td>2010-09-28</td>\n",
       "      <td>2010-08-02</td>\n",
       "      <td>untracked</td>\n",
       "      <td>IE</td>\n",
       "      <td>Windows Desktop</td>\n",
       "      <td>FEMALE</td>\n",
       "      <td>4ft3gnwmtx</td>\n",
       "      <td>en</td>\n",
       "      <td>Web</td>\n",
       "      <td>3</td>\n",
       "      <td>basic</td>\n",
       "      <td>20090609231247</td>\n",
       "    </tr>\n",
       "    <tr>\n",
       "      <th>3</th>\n",
       "      <td>direct</td>\n",
       "      <td>direct</td>\n",
       "      <td>42</td>\n",
       "      <td>other</td>\n",
       "      <td>2011-12-05</td>\n",
       "      <td>2012-09-08</td>\n",
       "      <td>untracked</td>\n",
       "      <td>Firefox</td>\n",
       "      <td>Mac Desktop</td>\n",
       "      <td>FEMALE</td>\n",
       "      <td>bjjt8pjhuk</td>\n",
       "      <td>en</td>\n",
       "      <td>Web</td>\n",
       "      <td>0</td>\n",
       "      <td>facebook</td>\n",
       "      <td>20091031060129</td>\n",
       "    </tr>\n",
       "    <tr>\n",
       "      <th>4</th>\n",
       "      <td>direct</td>\n",
       "      <td>direct</td>\n",
       "      <td>41</td>\n",
       "      <td>US</td>\n",
       "      <td>2010-09-14</td>\n",
       "      <td>2010-02-18</td>\n",
       "      <td>untracked</td>\n",
       "      <td>Chrome</td>\n",
       "      <td>Mac Desktop</td>\n",
       "      <td>NaN</td>\n",
       "      <td>87mebub9p4</td>\n",
       "      <td>en</td>\n",
       "      <td>Web</td>\n",
       "      <td>0</td>\n",
       "      <td>basic</td>\n",
       "      <td>20091208061105</td>\n",
       "    </tr>\n",
       "  </tbody>\n",
       "</table>\n",
       "</div>"
      ],
      "text/plain": [
       "  affiliate_channel affiliate_provider  age country_destination  \\\n",
       "0            direct             direct  NaN                 NDF   \n",
       "1               seo             google   38                 NDF   \n",
       "2            direct             direct   56                  US   \n",
       "3            direct             direct   42               other   \n",
       "4            direct             direct   41                  US   \n",
       "\n",
       "  date_account_created date_first_booking first_affiliate_tracked  \\\n",
       "0           2010-06-28                NaN               untracked   \n",
       "1           2011-05-25                NaN               untracked   \n",
       "2           2010-09-28         2010-08-02               untracked   \n",
       "3           2011-12-05         2012-09-08               untracked   \n",
       "4           2010-09-14         2010-02-18               untracked   \n",
       "\n",
       "  first_browser first_device_type  gender          id language signup_app  \\\n",
       "0        Chrome       Mac Desktop     NaN  gxn3p5htnn       en        Web   \n",
       "1        Chrome       Mac Desktop    MALE  820tgsjxq7       en        Web   \n",
       "2            IE   Windows Desktop  FEMALE  4ft3gnwmtx       en        Web   \n",
       "3       Firefox       Mac Desktop  FEMALE  bjjt8pjhuk       en        Web   \n",
       "4        Chrome       Mac Desktop     NaN  87mebub9p4       en        Web   \n",
       "\n",
       "   signup_flow signup_method  timestamp_first_active  \n",
       "0            0      facebook          20090319043255  \n",
       "1            0      facebook          20090523174809  \n",
       "2            3         basic          20090609231247  \n",
       "3            0      facebook          20091031060129  \n",
       "4            0         basic          20091208061105  "
      ]
     },
     "execution_count": 33,
     "metadata": {},
     "output_type": "execute_result"
    }
   ],
   "source": [
    "users.head(5)"
   ]
  },
  {
   "cell_type": "markdown",
   "metadata": {},
   "source": []
  },
  {
   "cell_type": "code",
   "execution_count": 35,
   "metadata": {
    "collapsed": false
   },
   "outputs": [],
   "source": [
    "users_nan = (users.isnull().sum() / users.shape[0]) * 100\n",
    "\n",
    "# This is to calculate the percentage of null/NaN within the data\n",
    "# .count() tell how much non-null/NaN\n",
    "# .isnull().sum() tell how much null/NaN\n",
    "users_nan[users_nan > 0].drop('country_destination')"
   ]
  },
  {
   "cell_type": "code",
   "execution_count": 26,
   "metadata": {
    "collapsed": false
   },
   "outputs": [
    {
     "data": {
      "text/plain": [
       "275547"
      ]
     },
     "execution_count": 26,
     "metadata": {},
     "output_type": "execute_result"
    }
   ],
   "source": [
    "users.gender.shape[0]"
   ]
  },
  {
   "cell_type": "code",
   "execution_count": null,
   "metadata": {
    "collapsed": true
   },
   "outputs": [],
   "source": []
  }
 ],
 "metadata": {
  "kernelspec": {
   "display_name": "Python 3",
   "language": "python",
   "name": "python3"
  },
  "language_info": {
   "codemirror_mode": {
    "name": "ipython",
    "version": 3
   },
   "file_extension": ".py",
   "mimetype": "text/x-python",
   "name": "python",
   "nbconvert_exporter": "python",
   "pygments_lexer": "ipython3",
   "version": "3.5.1"
  }
 },
 "nbformat": 4,
 "nbformat_minor": 0
}
